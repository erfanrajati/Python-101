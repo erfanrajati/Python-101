{
 "cells": [
  {
   "cell_type": "markdown",
   "metadata": {},
   "source": [
    "# Variables & Data Types\n",
    "\n",
    "With no doubt, variables are the very first thing every programmer learns, despite the language they're using. But don't worry, variables here aren't overwhelming like the ones in math.\n",
    "\n",
    "The most simple explanation of variables, is to say they are like containers, able to store pieces of data. Of course there are countless reasons for why we should store data in the first place. For starters, programming is the art of playing with data and use them to engineer something useful; and variables are surely the first step in learning how to work with data.\n",
    "\n",
    "### How to declare Variables?\n",
    "\n",
    "In Python, variables are faily simple to declare, take a look:"
   ]
  },
  {
   "cell_type": "code",
   "execution_count": 2,
   "metadata": {},
   "outputs": [],
   "source": [
    "a = 10\n",
    "b = 20"
   ]
  },
  {
   "cell_type": "markdown",
   "metadata": {},
   "source": [
    "As simple as that, we made our very first variables. Nice! But is doesn't end there. We can actually store many things inside variables rather than just numbers, like for example, text strings:"
   ]
  },
  {
   "cell_type": "code",
   "execution_count": 3,
   "metadata": {},
   "outputs": [],
   "source": [
    "name = \"Erfan\"\n",
    "message = \"Hello, World!\""
   ]
  },
  {
   "cell_type": "markdown",
   "metadata": {},
   "source": [
    "You have surely noticed the double quotations around text strings (`\"\"`), let's just say anytime we're to use strings anywhere, we must use either double (`\"`) or single (`'`) quotations around the text. But more on that later.\n",
    "\n",
    "You must pay attention to do's and don'ts when it comes to naming variables. For example, you variable name can only contain letters, numbers and `-` which is called a *dash*. You can't have space in you variable's name or special characters like: `!`, `@`, `#`, etc. There are a couple more restrictions for naming variables which we'll get to later on.\n",
    "\n",
    "### What to do with Variables?\n",
    "\n",
    "Now, we have learned how to declare variables. But what do we really do with them?\n",
    "\n",
    "Let's start simple, you must remember `print()` function, which we talked about in Session 0. Good news is that we can use that same function to see what's stored inside variables:"
   ]
  },
  {
   "cell_type": "code",
   "execution_count": 4,
   "metadata": {},
   "outputs": [
    {
     "name": "stdout",
     "output_type": "stream",
     "text": [
      "10\n",
      "20\n",
      "Erfan\n",
      "Hello, World!\n"
     ]
    }
   ],
   "source": [
    "print(a)\n",
    "print(b)\n",
    "print(name)\n",
    "print(message)"
   ]
  },
  {
   "cell_type": "markdown",
   "metadata": {},
   "source": [
    "**If you see errors, try running previous code cells before running this one.**\n",
    "\n",
    "Note that as you code through the python file, you might mistakenly (or intentionally) declare a variable with a name that was already used for previous variables. This will case the variable to be overwritten with the new value you assign to them, take a lool:"
   ]
  },
  {
   "cell_type": "code",
   "execution_count": 9,
   "metadata": {},
   "outputs": [
    {
     "name": "stdout",
     "output_type": "stream",
     "text": [
      "New value\n"
     ]
    }
   ],
   "source": [
    "name = \"New value\"\n",
    "print(name)"
   ]
  },
  {
   "cell_type": "markdown",
   "metadata": {},
   "source": [
    "One more thing we can do with variables is performing some math on them, adding, subtracting, etc. and NOT just on numbers! Here's how:"
   ]
  },
  {
   "cell_type": "code",
   "execution_count": null,
   "metadata": {},
   "outputs": [
    {
     "name": "stdout",
     "output_type": "stream",
     "text": [
      "30\n",
      "ErfanRajati\n"
     ]
    }
   ],
   "source": [
    "print(a + b)\n",
    "print(a - b)\n",
    "print(name + \"Rajati\")"
   ]
  },
  {
   "cell_type": "markdown",
   "metadata": {},
   "source": [
    "Very cool huh? Notice that `+` is a so called *Operator* in Python. We will discuss operators in next session more deeply. Just keep in mind that operators might act differently if they are used with strings rather than numbers. As you witnessed, using `+` with string variables resulted in sticking two strings together, whereas with numbers, it added them mathematically. We will talk about the main differences between strings and numbers (and other types there might be!) but before that, let us add one last application of variables, getting the user input!"
   ]
  },
  {
   "cell_type": "code",
   "execution_count": 6,
   "metadata": {},
   "outputs": [],
   "source": [
    "user_input = input(\"Type your input here: \")"
   ]
  },
  {
   "cell_type": "markdown",
   "metadata": {},
   "source": [
    "`input()` is another function, same as `print()` only it reads the user input as they type, and stores the user input inside the variable it was assigned to (`user_input` in this case). We already know enough to write out very first program, a code that get's the user's name and says hi to them."
   ]
  },
  {
   "cell_type": "code",
   "execution_count": null,
   "metadata": {},
   "outputs": [
    {
     "name": "stdout",
     "output_type": "stream",
     "text": [
      "Hello, Erfan\n"
     ]
    }
   ],
   "source": [
    "# file name: sayhi.py\n",
    "\n",
    "user_name = input(\"Type you name here: \")\n",
    "print(\"Hello, \" + user_name)"
   ]
  },
  {
   "cell_type": "markdown",
   "metadata": {},
   "source": [
    "Congratulations, now you know what variables are. Let's crank things up now. \n",
    "\n",
    "### What are Data Types?"
   ]
  },
  {
   "cell_type": "markdown",
   "metadata": {},
   "source": [
    "Data can have many forms, we already learned it can be a number, like user's age or their Social Security Number. It can be a string (which we also learned), like user's name, home address, email addres, etc. However, in the Digital World, data can have many other forms. Like for example a boolean, meaning a data that can be either true or false. Like someone's gender or whether or not they are above 18, if a book is sold out or still in-stock, so on and so forth. Data can also be a combination of simpler types of data, like a key-value structure data; which a great example for would be a phonebook, which relates each name to a phone numner (a string to a number) In this topic, we're to explain what a Data Type is and which ones are the basic ones in Python.\n",
    "\n",
    "Basically, when you declare a variable, you give it a *Name* and assign a *Value* to it. Like in `a = 10`, `a` here is the variable's name and `10` is it's value. Right now we're to learn that variables actually come with a third property called their *Data Type*.\n",
    "\n",
    "As well as name and value, each variable has a data type which is essentially the \"type of data\" that is currently stored in that variable. For instance, the DataType of `a` in the example above is *Integer*; which is a fancy name for whole numbers like `10`. Another example would be `name = \"Erfan\"` which has a Data Type of *String*.\n",
    "\n",
    "There are four main data types that python uses by default and other data types coming in the next subjects, are simply a combination of these simple ones."
   ]
  },
  {
   "cell_type": "markdown",
   "metadata": {},
   "source": [
    "### Boolean"
   ]
  }
 ],
 "metadata": {
  "kernelspec": {
   "display_name": "base",
   "language": "python",
   "name": "python3"
  },
  "language_info": {
   "codemirror_mode": {
    "name": "ipython",
    "version": 3
   },
   "file_extension": ".py",
   "mimetype": "text/x-python",
   "name": "python",
   "nbconvert_exporter": "python",
   "pygments_lexer": "ipython3",
   "version": "3.12.9"
  }
 },
 "nbformat": 4,
 "nbformat_minor": 2
}
