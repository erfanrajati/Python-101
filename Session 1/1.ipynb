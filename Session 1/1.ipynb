{
 "cells": [
  {
   "cell_type": "markdown",
   "metadata": {},
   "source": [
    "# Variables & Data Types\n",
    "\n",
    "With no doubt, variables are the very first thing every programmer learns, despite the language they're using. But don't worry, variables here aren't overwhelming like the ones in math.\n",
    "\n",
    "The most simple explanation of variables, is to say they are like containers, able to store pieces of data. Of course there are countless reasons for why we should store data in the first place. For starters, programming is the art of playing with data and use them to engineer something useful; and variables are surely the first step in learning how to work with data.\n",
    "\n",
    "### How to declare Variables?\n",
    "\n",
    "In Python, variables are faily simple to declare, take a look:"
   ]
  },
  {
   "cell_type": "code",
   "execution_count": 2,
   "metadata": {},
   "outputs": [],
   "source": [
    "a = 10\n",
    "b = 20"
   ]
  },
  {
   "cell_type": "markdown",
   "metadata": {},
   "source": [
    "As simple as that, we made our very first variables. Nice! But is doesn't end there. We can actually store many things inside variables rather than just numbers, like for example, text strings:"
   ]
  },
  {
   "cell_type": "code",
   "execution_count": 3,
   "metadata": {},
   "outputs": [],
   "source": [
    "name = \"Erfan\"\n",
    "message = \"Hello, World!\""
   ]
  },
  {
   "cell_type": "markdown",
   "metadata": {},
   "source": [
    "You have surely noticed the double quotations around text strings (`\"\"`), let's just say anytime we're to use strings anywhere, we must use either double (`\"`) or single (`'`) quotations around the text. But more on that later.\n",
    "\n",
    "You must pay attention to do's and don'ts when it comes to naming variables. For example, you variable name can only contain letters, numbers and `-` which is called a *dash*. You can't have space in you variable's name or special characters like: `!`, `@`, `#`, etc. There are a couple more restrictions for naming variables which we'll get to later on.\n",
    "\n",
    "### What to do with Variables?\n",
    "\n",
    "Now, we have learned how to declare variables. But what do we really do with them?\n",
    "\n",
    "Let's start simple, you must remember `print()` function, which we talked about in Session 0. Good news is that we can use that same function to see what's stored inside variables:"
   ]
  },
  {
   "cell_type": "code",
   "execution_count": 4,
   "metadata": {},
   "outputs": [
    {
     "name": "stdout",
     "output_type": "stream",
     "text": [
      "10\n",
      "20\n",
      "Erfan\n",
      "Hello, World!\n"
     ]
    }
   ],
   "source": [
    "print(a)\n",
    "print(b)\n",
    "print(name)\n",
    "print(message)"
   ]
  },
  {
   "cell_type": "markdown",
   "metadata": {},
   "source": [
    "**If you see errors, try running previous code cells before running this one.**\n",
    "\n",
    "Note that as you code through the python file, you might mistakenly (or intentionally) declare a variable with a name that was already used for previous variables. This will case the variable to be overwritten with the new value you assign to them, take a lool:"
   ]
  },
  {
   "cell_type": "code",
   "execution_count": 9,
   "metadata": {},
   "outputs": [
    {
     "name": "stdout",
     "output_type": "stream",
     "text": [
      "New value\n"
     ]
    }
   ],
   "source": [
    "name = \"New value\"\n",
    "print(name)"
   ]
  },
  {
   "cell_type": "markdown",
   "metadata": {},
   "source": [
    "One more thing we can do with variables is performing some math on them, adding, subtracting, etc. and NOT just on numbers! Here's how:"
   ]
  },
  {
   "cell_type": "code",
   "execution_count": null,
   "metadata": {},
   "outputs": [
    {
     "name": "stdout",
     "output_type": "stream",
     "text": [
      "30\n",
      "ErfanRajati\n"
     ]
    }
   ],
   "source": [
    "print(a + b)\n",
    "print(a - b)\n",
    "print(name + \"Rajati\")"
   ]
  },
  {
   "cell_type": "markdown",
   "metadata": {},
   "source": [
    "Very cool huh? Notice that `+` is a so called *Operator* in Python. We will discuss operators in next session more deeply. Just keep in mind that operators might act differently if they are used with strings rather than numbers. As you witnessed, using `+` with string variables resulted in sticking two strings together, whereas with numbers, it added them mathematically. We will talk about the main differences between strings and numbers (and other types there might be!) but before that, let us add one last application of variables, getting the user input!"
   ]
  },
  {
   "cell_type": "code",
   "execution_count": 6,
   "metadata": {},
   "outputs": [],
   "source": [
    "user_input = input(\"Type your input here: \")"
   ]
  },
  {
   "cell_type": "markdown",
   "metadata": {},
   "source": [
    "`input()` is another function, same as `print()` only it reads the user input as they type, and stores the user input inside the variable it was assigned to (`user_input` in this case). We already know enough to write out very first program, a code that get's the user's name and says hi to them."
   ]
  },
  {
   "cell_type": "code",
   "execution_count": null,
   "metadata": {},
   "outputs": [
    {
     "name": "stdout",
     "output_type": "stream",
     "text": [
      "Hello, Erfan\n"
     ]
    }
   ],
   "source": [
    "# file name: sayhi.py\n",
    "\n",
    "user_name = input(\"Type you name here: \")\n",
    "print(\"Hello, \" + user_name)"
   ]
  },
  {
   "cell_type": "markdown",
   "metadata": {},
   "source": [
    "Congratulations, now you know what variables are. Let's crank things up now. "
   ]
  },
  {
   "cell_type": "markdown",
   "metadata": {},
   "source": [
    "### What are Data Types?\n",
    "\n",
    "Data can have many forms, we already learned it can be a number, like user's age or their Social Security Number. It can be a string (which we also learned), like user's name, home address, email addres, etc. However, in the Digital World, data can have many other forms and it's crucial to know the difference.\n",
    "\n",
    "Basically, when you declare a variable, you give it a *Name* and assign a *Literal Value* to it. Like in `a = 10`, `a` here is the variable's name and `10` is it's literal. Right now we're to learn that variables actually come with a third property called their *Data Type*.\n",
    "\n",
    "As well as name and value, each variable has a data type which is essentially the \"type of data\" that is currently stored in that variable. For instance, the DataType of `a` in the example above is *Integer*; which is a fancy name for whole numbers like `10`. Another example would be `name = \"Erfan\"` which has a Data Type of *String*.\n",
    "\n",
    "There are four main data types that python uses by default and other data types coming in the next subjects, are simply a combination of these simple ones.\n",
    "\n",
    "1. `Integers`\n",
    "2. `String`\n",
    "3. `Float`\n",
    "4. `Boolean`\n",
    "\n",
    "We have already learned integers and strings. let's continue the journey."
   ]
  },
  {
   "cell_type": "markdown",
   "metadata": {},
   "source": [
    "**Booleans: 0 or 1?**\n",
    "\n",
    "You must've heard that computers only understand 0s and 1s, this is where we take our first step towards understanding what that actually means. \n",
    "\n",
    "The most simple Data Type is a Boolean, named after great mathematician George Boole, lived in early 1800s Which is the Data Type of a variable that can have two values, `True` or `False`, a `1` or a `0` so to speak. "
   ]
  },
  {
   "cell_type": "code",
   "execution_count": null,
   "metadata": {},
   "outputs": [],
   "source": [
    "p = True\n",
    "q = False\n",
    "is_active = False\n",
    "is_guy = True"
   ]
  },
  {
   "cell_type": "markdown",
   "metadata": {},
   "source": [
    "Booleans are often used to store truth, like the status of an ON/OFF switch, someone's gender, and so much more."
   ]
  },
  {
   "cell_type": "markdown",
   "metadata": {},
   "source": [
    "**Floats: Decimal Point Numbers**\n",
    "\n",
    "As it's clear by the name, float is basiacally the Data Type of a variable that is storing numbers, but not whole (integer) ones. Like your GPA which could be something like `3.95`. Or for example your weight which could be `85.3` kilograms for instance. Here's how to declare them:"
   ]
  },
  {
   "cell_type": "code",
   "execution_count": null,
   "metadata": {},
   "outputs": [],
   "source": [
    "gpa = 3.95\n",
    "weight = 85.3"
   ]
  },
  {
   "cell_type": "markdown",
   "metadata": {},
   "source": [
    "Congratulations my friends, we have learned basic Python Data Types. Now let's learn about type casting and type extraction."
   ]
  },
  {
   "cell_type": "markdown",
   "metadata": {},
   "source": [
    "### Type Extraction\n",
    "\n",
    "There is a tool in Python which can be used to detect what a variable's type is. Much like `print()` which told us what the variable's literal value is, `type()` tells us about variable's Data Type."
   ]
  },
  {
   "cell_type": "code",
   "execution_count": 1,
   "metadata": {},
   "outputs": [
    {
     "name": "stdout",
     "output_type": "stream",
     "text": [
      "10\n",
      "<class 'int'>\n"
     ]
    }
   ],
   "source": [
    "a = 10 # Name: a, Value: 10, Type: integer\n",
    "print(a)\n",
    "print(type(a))"
   ]
  },
  {
   "cell_type": "markdown",
   "metadata": {},
   "source": [
    "It wasn't a great idea of mine to compare `print()` and `type()`, because `print()` is a function and `type()` is a class (more on those later). But for now let's just say anytime you want to see any output of you're code, you gotta use `print()` to see it in the terminal. while `type()` produce some result for you, `print()` is in charge of showing them. You can also do:"
   ]
  },
  {
   "cell_type": "code",
   "execution_count": null,
   "metadata": {},
   "outputs": [],
   "source": [
    "a = 10 # Name: a, Value: 10, Type: integer\n",
    "print(a)\n",
    "type_of_a = type(a)\n",
    "print(type_of_a)"
   ]
  },
  {
   "cell_type": "code",
   "execution_count": null,
   "metadata": {},
   "outputs": [],
   "source": []
  }
 ],
 "metadata": {
  "kernelspec": {
   "display_name": "base",
   "language": "python",
   "name": "python3"
  },
  "language_info": {
   "codemirror_mode": {
    "name": "ipython",
    "version": 3
   },
   "file_extension": ".py",
   "mimetype": "text/x-python",
   "name": "python",
   "nbconvert_exporter": "python",
   "pygments_lexer": "ipython3",
   "version": "3.12.9"
  }
 },
 "nbformat": 4,
 "nbformat_minor": 2
}
